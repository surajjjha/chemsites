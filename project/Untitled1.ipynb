{
 "cells": [
  {
   "cell_type": "code",
   "execution_count": 1,
   "id": "7034d93f",
   "metadata": {},
   "outputs": [],
   "source": [
    "import streamlit as st\n",
    "import pickle\n",
    "import numpy as np\n",
    "model=pickle.load(open('model.pkl','rb'))"
   ]
  },
  {
   "cell_type": "code",
   "execution_count": 2,
   "id": "51236f29",
   "metadata": {},
   "outputs": [],
   "source": [
    "def predict_forest(oxygen,humidity,temperature):\n",
    "    input=np.array([[oxygen,humidity,temperature]]).astype(np.float64)\n",
    "    prediction=model.predict_proba(input)\n",
    "    pred='{0:.{1}f}'.format(prediction[0][0], 2)\n",
    "    return float(pred)"
   ]
  },
  {
   "cell_type": "code",
   "execution_count": 3,
   "id": "4d760d73",
   "metadata": {},
   "outputs": [],
   "source": [
    "def main():\n",
    "    st.title(\"Streamlit Tutorial\")\n",
    "    html_temp = \"\"\"\n",
    "    <div style=\"background-color:#025246 ;padding:10px\">\n",
    "    <h2 style=\"color:white;text-align:center;\">Forest Fire Prediction ML App </h2>\n",
    "    </div>\n",
    "    \"\"\"\n",
    "    st.markdown(html_temp, unsafe_allow_html=True)\n",
    "\n",
    "    oxygen = st.text_input(\"Oxygen\",\"Type Here\")\n",
    "    humidity = st.text_input(\"Humidity\",\"Type Here\")\n",
    "    temperature = st.text_input(\"Temperature\",\"Type Here\")\n",
    "    safe_html=\"\"\"  \n",
    "      <div style=\"background-color:#F4D03F;padding:10px >\n",
    "       <h2 style=\"color:white;text-align:center;\"> Your forest is safe</h2>\n",
    "       </div>\n",
    "    \"\"\"\n",
    "    danger_html=\"\"\"  \n",
    "      <div style=\"background-color:#F08080;padding:10px >\n",
    "       <h2 style=\"color:black ;text-align:center;\"> Your forest is in danger</h2>\n",
    "       </div>\n",
    "    \"\"\""
   ]
  },
  {
   "cell_type": "code",
   "execution_count": 4,
   "id": "666d815f",
   "metadata": {},
   "outputs": [
    {
     "name": "stderr",
     "output_type": "stream",
     "text": [
      "2023-04-06 16:22:17.746 \n",
      "  \u001b[33m\u001b[1mWarning:\u001b[0m to view this Streamlit app on a browser, run it with the following\n",
      "  command:\n",
      "\n",
      "    streamlit run C:\\python\\Lib\\site-packages\\ipykernel_launcher.py [ARGUMENTS]\n"
     ]
    }
   ],
   "source": [
    "if st.button(\"Predict\"):\n",
    "        output=predict_forest(oxygen,humidity,temperature)\n",
    "        st.success('The probability of fire taking place is {}'.format(output))\n",
    "\n",
    "        if output > 0.5:\n",
    "            st.markdown(danger_html,unsafe_allow_html=True)\n",
    "        else:\n",
    "            st.markdown(safe_html,unsafe_allow_html=True)\n",
    "\n",
    "if __name__=='__main__':\n",
    "    main()"
   ]
  },
  {
   "cell_type": "code",
   "execution_count": null,
   "id": "77adcec4",
   "metadata": {},
   "outputs": [],
   "source": []
  }
 ],
 "metadata": {
  "kernelspec": {
   "display_name": "Python 3 (ipykernel)",
   "language": "python",
   "name": "python3"
  },
  "language_info": {
   "codemirror_mode": {
    "name": "ipython",
    "version": 3
   },
   "file_extension": ".py",
   "mimetype": "text/x-python",
   "name": "python",
   "nbconvert_exporter": "python",
   "pygments_lexer": "ipython3",
   "version": "3.11.1"
  }
 },
 "nbformat": 4,
 "nbformat_minor": 5
}
