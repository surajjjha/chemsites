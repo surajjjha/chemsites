{
 "cells": [
  {
   "cell_type": "code",
   "execution_count": 18,
   "id": "7af985f6",
   "metadata": {},
   "outputs": [],
   "source": [
    "import pandas as pd\n",
    "import numpy as np\n",
    "import matplotlib.pyplot as plt\n",
    "import warnings\n",
    "import pickle"
   ]
  },
  {
   "cell_type": "code",
   "execution_count": 19,
   "id": "b3cef1d8",
   "metadata": {},
   "outputs": [],
   "source": [
    "df=pd.read_csv('C:\\\\Users\\\\jyoti\\\\project\\\\data.csv')"
   ]
  },
  {
   "cell_type": "code",
   "execution_count": 20,
   "id": "55ca63bc",
   "metadata": {},
   "outputs": [
    {
     "data": {
      "text/html": [
       "<div>\n",
       "<style scoped>\n",
       "    .dataframe tbody tr th:only-of-type {\n",
       "        vertical-align: middle;\n",
       "    }\n",
       "\n",
       "    .dataframe tbody tr th {\n",
       "        vertical-align: top;\n",
       "    }\n",
       "\n",
       "    .dataframe thead th {\n",
       "        text-align: right;\n",
       "    }\n",
       "</style>\n",
       "<table border=\"1\" class=\"dataframe\">\n",
       "  <thead>\n",
       "    <tr style=\"text-align: right;\">\n",
       "      <th></th>\n",
       "      <th>continent</th>\n",
       "      <th>State</th>\n",
       "      <th>Distance to road(m)</th>\n",
       "      <th>Factory density</th>\n",
       "      <th>Factory</th>\n",
       "      <th>distance to neareset water source(km)</th>\n",
       "      <th>Number of Water sources</th>\n",
       "      <th>Avg distance to water source(km)</th>\n",
       "      <th>Distance to city(km)</th>\n",
       "      <th>Distance to nearest dump site(km)</th>\n",
       "      <th>Decision</th>\n",
       "    </tr>\n",
       "  </thead>\n",
       "  <tbody>\n",
       "    <tr>\n",
       "      <th>0</th>\n",
       "      <td>India</td>\n",
       "      <td>Delhi</td>\n",
       "      <td>500</td>\n",
       "      <td>76</td>\n",
       "      <td>9</td>\n",
       "      <td>2</td>\n",
       "      <td>3</td>\n",
       "      <td>1.5</td>\n",
       "      <td>20</td>\n",
       "      <td>5</td>\n",
       "      <td>yes</td>\n",
       "    </tr>\n",
       "    <tr>\n",
       "      <th>1</th>\n",
       "      <td>India</td>\n",
       "      <td>punjab</td>\n",
       "      <td>400</td>\n",
       "      <td>76</td>\n",
       "      <td>6</td>\n",
       "      <td>40</td>\n",
       "      <td>6</td>\n",
       "      <td>4.0</td>\n",
       "      <td>60</td>\n",
       "      <td>4</td>\n",
       "      <td>yes</td>\n",
       "    </tr>\n",
       "    <tr>\n",
       "      <th>2</th>\n",
       "      <td>India</td>\n",
       "      <td>rajisthan</td>\n",
       "      <td>600</td>\n",
       "      <td>60</td>\n",
       "      <td>5</td>\n",
       "      <td>60</td>\n",
       "      <td>6</td>\n",
       "      <td>8.0</td>\n",
       "      <td>40</td>\n",
       "      <td>6</td>\n",
       "      <td>no</td>\n",
       "    </tr>\n",
       "    <tr>\n",
       "      <th>3</th>\n",
       "      <td>USA</td>\n",
       "      <td>Washington</td>\n",
       "      <td>400</td>\n",
       "      <td>80</td>\n",
       "      <td>6</td>\n",
       "      <td>43</td>\n",
       "      <td>8</td>\n",
       "      <td>6.0</td>\n",
       "      <td>40</td>\n",
       "      <td>2</td>\n",
       "      <td>yes</td>\n",
       "    </tr>\n",
       "    <tr>\n",
       "      <th>4</th>\n",
       "      <td>USA</td>\n",
       "      <td>Virginia</td>\n",
       "      <td>500</td>\n",
       "      <td>40</td>\n",
       "      <td>9</td>\n",
       "      <td>53</td>\n",
       "      <td>4</td>\n",
       "      <td>9.0</td>\n",
       "      <td>70</td>\n",
       "      <td>7</td>\n",
       "      <td>no</td>\n",
       "    </tr>\n",
       "  </tbody>\n",
       "</table>\n",
       "</div>"
      ],
      "text/plain": [
       "  continent       State  Distance to road(m)  Factory density  Factory   \\\n",
       "0     India       Delhi                  500               76         9   \n",
       "1     India      punjab                  400               76         6   \n",
       "2     India   rajisthan                  600               60         5   \n",
       "3       USA  Washington                  400               80         6   \n",
       "4       USA    Virginia                  500               40         9   \n",
       "\n",
       "   distance to neareset water source(km)  Number of Water sources  \\\n",
       "0                                      2                        3   \n",
       "1                                     40                        6   \n",
       "2                                     60                        6   \n",
       "3                                     43                        8   \n",
       "4                                     53                        4   \n",
       "\n",
       "   Avg distance to water source(km)  Distance to city(km)  \\\n",
       "0                               1.5                    20   \n",
       "1                               4.0                    60   \n",
       "2                               8.0                    40   \n",
       "3                               6.0                    40   \n",
       "4                               9.0                    70   \n",
       "\n",
       "   Distance to nearest dump site(km) Decision  \n",
       "0                                  5      yes  \n",
       "1                                  4      yes  \n",
       "2                                  6       no  \n",
       "3                                  2      yes  \n",
       "4                                  7       no  "
      ]
     },
     "execution_count": 20,
     "metadata": {},
     "output_type": "execute_result"
    }
   ],
   "source": [
    "df.head()"
   ]
  },
  {
   "cell_type": "code",
   "execution_count": 21,
   "id": "bb528cf3",
   "metadata": {},
   "outputs": [
    {
     "data": {
      "text/plain": [
       "continent                                2\n",
       "State                                    0\n",
       "Distance to road(m)                      0\n",
       "Factory density                          0\n",
       "Factory                                  0\n",
       "distance to neareset water source(km)    0\n",
       "Number of Water sources                  0\n",
       "Avg distance to water source(km)         0\n",
       "Distance to city(km)                     0\n",
       "Distance to nearest dump site(km)        0\n",
       "Decision                                 1\n",
       "dtype: int64"
      ]
     },
     "execution_count": 21,
     "metadata": {},
     "output_type": "execute_result"
    }
   ],
   "source": [
    "df.isnull().sum()"
   ]
  },
  {
   "cell_type": "code",
   "execution_count": 22,
   "id": "e8fc2d77",
   "metadata": {},
   "outputs": [],
   "source": [
    "df=df.fillna(method='ffill',axis=0)"
   ]
  },
  {
   "cell_type": "code",
   "execution_count": 23,
   "id": "0f317e1b",
   "metadata": {},
   "outputs": [],
   "source": [
    "from sklearn.preprocessing import LabelEncoder\n",
    "le=LabelEncoder()"
   ]
  },
  {
   "cell_type": "code",
   "execution_count": 24,
   "id": "b6862095",
   "metadata": {},
   "outputs": [],
   "source": [
    "df.State=le.fit_transform(df.State)"
   ]
  },
  {
   "cell_type": "code",
   "execution_count": 25,
   "id": "20570943",
   "metadata": {},
   "outputs": [
    {
     "data": {
      "text/html": [
       "<div>\n",
       "<style scoped>\n",
       "    .dataframe tbody tr th:only-of-type {\n",
       "        vertical-align: middle;\n",
       "    }\n",
       "\n",
       "    .dataframe tbody tr th {\n",
       "        vertical-align: top;\n",
       "    }\n",
       "\n",
       "    .dataframe thead th {\n",
       "        text-align: right;\n",
       "    }\n",
       "</style>\n",
       "<table border=\"1\" class=\"dataframe\">\n",
       "  <thead>\n",
       "    <tr style=\"text-align: right;\">\n",
       "      <th></th>\n",
       "      <th>continent</th>\n",
       "      <th>State</th>\n",
       "      <th>Distance to road(m)</th>\n",
       "      <th>Factory density</th>\n",
       "      <th>Factory</th>\n",
       "      <th>distance to neareset water source(km)</th>\n",
       "      <th>Number of Water sources</th>\n",
       "      <th>Avg distance to water source(km)</th>\n",
       "      <th>Distance to city(km)</th>\n",
       "      <th>Distance to nearest dump site(km)</th>\n",
       "      <th>Decision</th>\n",
       "    </tr>\n",
       "  </thead>\n",
       "  <tbody>\n",
       "    <tr>\n",
       "      <th>0</th>\n",
       "      <td>India</td>\n",
       "      <td>49</td>\n",
       "      <td>500</td>\n",
       "      <td>76</td>\n",
       "      <td>9</td>\n",
       "      <td>2</td>\n",
       "      <td>3</td>\n",
       "      <td>1.5</td>\n",
       "      <td>20</td>\n",
       "      <td>5</td>\n",
       "      <td>yes</td>\n",
       "    </tr>\n",
       "    <tr>\n",
       "      <th>1</th>\n",
       "      <td>India</td>\n",
       "      <td>205</td>\n",
       "      <td>400</td>\n",
       "      <td>76</td>\n",
       "      <td>6</td>\n",
       "      <td>40</td>\n",
       "      <td>6</td>\n",
       "      <td>4.0</td>\n",
       "      <td>60</td>\n",
       "      <td>4</td>\n",
       "      <td>yes</td>\n",
       "    </tr>\n",
       "    <tr>\n",
       "      <th>2</th>\n",
       "      <td>India</td>\n",
       "      <td>206</td>\n",
       "      <td>600</td>\n",
       "      <td>60</td>\n",
       "      <td>5</td>\n",
       "      <td>60</td>\n",
       "      <td>6</td>\n",
       "      <td>8.0</td>\n",
       "      <td>40</td>\n",
       "      <td>6</td>\n",
       "      <td>no</td>\n",
       "    </tr>\n",
       "    <tr>\n",
       "      <th>3</th>\n",
       "      <td>USA</td>\n",
       "      <td>188</td>\n",
       "      <td>400</td>\n",
       "      <td>80</td>\n",
       "      <td>6</td>\n",
       "      <td>43</td>\n",
       "      <td>8</td>\n",
       "      <td>6.0</td>\n",
       "      <td>40</td>\n",
       "      <td>2</td>\n",
       "      <td>yes</td>\n",
       "    </tr>\n",
       "    <tr>\n",
       "      <th>4</th>\n",
       "      <td>USA</td>\n",
       "      <td>186</td>\n",
       "      <td>500</td>\n",
       "      <td>40</td>\n",
       "      <td>9</td>\n",
       "      <td>53</td>\n",
       "      <td>4</td>\n",
       "      <td>9.0</td>\n",
       "      <td>70</td>\n",
       "      <td>7</td>\n",
       "      <td>no</td>\n",
       "    </tr>\n",
       "  </tbody>\n",
       "</table>\n",
       "</div>"
      ],
      "text/plain": [
       "  continent  State  Distance to road(m)  Factory density  Factory   \\\n",
       "0     India     49                  500               76         9   \n",
       "1     India    205                  400               76         6   \n",
       "2     India    206                  600               60         5   \n",
       "3       USA    188                  400               80         6   \n",
       "4       USA    186                  500               40         9   \n",
       "\n",
       "   distance to neareset water source(km)  Number of Water sources  \\\n",
       "0                                      2                        3   \n",
       "1                                     40                        6   \n",
       "2                                     60                        6   \n",
       "3                                     43                        8   \n",
       "4                                     53                        4   \n",
       "\n",
       "   Avg distance to water source(km)  Distance to city(km)  \\\n",
       "0                               1.5                    20   \n",
       "1                               4.0                    60   \n",
       "2                               8.0                    40   \n",
       "3                               6.0                    40   \n",
       "4                               9.0                    70   \n",
       "\n",
       "   Distance to nearest dump site(km) Decision  \n",
       "0                                  5      yes  \n",
       "1                                  4      yes  \n",
       "2                                  6       no  \n",
       "3                                  2      yes  \n",
       "4                                  7       no  "
      ]
     },
     "execution_count": 25,
     "metadata": {},
     "output_type": "execute_result"
    }
   ],
   "source": [
    "df.head()"
   ]
  },
  {
   "cell_type": "code",
   "execution_count": 26,
   "id": "c56315b3",
   "metadata": {},
   "outputs": [],
   "source": [
    "# df.Decision=le.fit_transform(df.Decision)"
   ]
  },
  {
   "cell_type": "code",
   "execution_count": 27,
   "id": "bdbe8ad1",
   "metadata": {},
   "outputs": [
    {
     "data": {
      "text/html": [
       "<div>\n",
       "<style scoped>\n",
       "    .dataframe tbody tr th:only-of-type {\n",
       "        vertical-align: middle;\n",
       "    }\n",
       "\n",
       "    .dataframe tbody tr th {\n",
       "        vertical-align: top;\n",
       "    }\n",
       "\n",
       "    .dataframe thead th {\n",
       "        text-align: right;\n",
       "    }\n",
       "</style>\n",
       "<table border=\"1\" class=\"dataframe\">\n",
       "  <thead>\n",
       "    <tr style=\"text-align: right;\">\n",
       "      <th></th>\n",
       "      <th>continent</th>\n",
       "      <th>State</th>\n",
       "      <th>Distance to road(m)</th>\n",
       "      <th>Factory density</th>\n",
       "      <th>Factory</th>\n",
       "      <th>distance to neareset water source(km)</th>\n",
       "      <th>Number of Water sources</th>\n",
       "      <th>Avg distance to water source(km)</th>\n",
       "      <th>Distance to city(km)</th>\n",
       "      <th>Distance to nearest dump site(km)</th>\n",
       "      <th>Decision</th>\n",
       "    </tr>\n",
       "  </thead>\n",
       "  <tbody>\n",
       "    <tr>\n",
       "      <th>229</th>\n",
       "      <td>finland</td>\n",
       "      <td>66</td>\n",
       "      <td>655</td>\n",
       "      <td>49</td>\n",
       "      <td>3</td>\n",
       "      <td>45</td>\n",
       "      <td>6</td>\n",
       "      <td>5.0</td>\n",
       "      <td>37</td>\n",
       "      <td>4</td>\n",
       "      <td>no</td>\n",
       "    </tr>\n",
       "    <tr>\n",
       "      <th>230</th>\n",
       "      <td>Kenya</td>\n",
       "      <td>113</td>\n",
       "      <td>366</td>\n",
       "      <td>25</td>\n",
       "      <td>4</td>\n",
       "      <td>25</td>\n",
       "      <td>4</td>\n",
       "      <td>6.0</td>\n",
       "      <td>92</td>\n",
       "      <td>8</td>\n",
       "      <td>no</td>\n",
       "    </tr>\n",
       "    <tr>\n",
       "      <th>231</th>\n",
       "      <td>Colombia</td>\n",
       "      <td>200</td>\n",
       "      <td>456</td>\n",
       "      <td>35</td>\n",
       "      <td>2</td>\n",
       "      <td>63</td>\n",
       "      <td>6</td>\n",
       "      <td>5.0</td>\n",
       "      <td>65</td>\n",
       "      <td>7</td>\n",
       "      <td>yes</td>\n",
       "    </tr>\n",
       "    <tr>\n",
       "      <th>232</th>\n",
       "      <td>brazil</td>\n",
       "      <td>207</td>\n",
       "      <td>653</td>\n",
       "      <td>78</td>\n",
       "      <td>45</td>\n",
       "      <td>69</td>\n",
       "      <td>9</td>\n",
       "      <td>5.0</td>\n",
       "      <td>35</td>\n",
       "      <td>9</td>\n",
       "      <td>yes</td>\n",
       "    </tr>\n",
       "    <tr>\n",
       "      <th>233</th>\n",
       "      <td>iteiy</td>\n",
       "      <td>204</td>\n",
       "      <td>659</td>\n",
       "      <td>46</td>\n",
       "      <td>36</td>\n",
       "      <td>95</td>\n",
       "      <td>8</td>\n",
       "      <td>5.0</td>\n",
       "      <td>94</td>\n",
       "      <td>6</td>\n",
       "      <td>yes</td>\n",
       "    </tr>\n",
       "  </tbody>\n",
       "</table>\n",
       "</div>"
      ],
      "text/plain": [
       "    continent  State  Distance to road(m)  Factory density  Factory   \\\n",
       "229   finland     66                  655               49         3   \n",
       "230     Kenya    113                  366               25         4   \n",
       "231  Colombia    200                  456               35         2   \n",
       "232    brazil    207                  653               78        45   \n",
       "233     iteiy    204                  659               46        36   \n",
       "\n",
       "     distance to neareset water source(km)  Number of Water sources  \\\n",
       "229                                     45                        6   \n",
       "230                                     25                        4   \n",
       "231                                     63                        6   \n",
       "232                                     69                        9   \n",
       "233                                     95                        8   \n",
       "\n",
       "     Avg distance to water source(km)  Distance to city(km)  \\\n",
       "229                               5.0                    37   \n",
       "230                               6.0                    92   \n",
       "231                               5.0                    65   \n",
       "232                               5.0                    35   \n",
       "233                               5.0                    94   \n",
       "\n",
       "     Distance to nearest dump site(km) Decision  \n",
       "229                                  4       no  \n",
       "230                                  8       no  \n",
       "231                                  7      yes  \n",
       "232                                  9      yes  \n",
       "233                                  6      yes  "
      ]
     },
     "execution_count": 27,
     "metadata": {},
     "output_type": "execute_result"
    }
   ],
   "source": [
    "df.tail()"
   ]
  },
  {
   "cell_type": "code",
   "execution_count": null,
   "id": "a3ec777f",
   "metadata": {},
   "outputs": [],
   "source": [
    " \n"
   ]
  },
  {
   "cell_type": "code",
   "execution_count": 28,
   "id": "19db48e5",
   "metadata": {},
   "outputs": [],
   "source": [
    "from sklearn.model_selection import train_test_split"
   ]
  },
  {
   "cell_type": "code",
   "execution_count": 29,
   "id": "de87f98e",
   "metadata": {},
   "outputs": [],
   "source": [
    "X_train, X_test, y_train, y_test=train_test_split(df[['Distance to road(m)','Factory density','distance to neareset water source(km)',\n",
    "                                                      'Number of Water sources','Avg distance to water source(km)',\n",
    "                                                     'Distance to city(km)','Distance to nearest dump site(km)']],df.Decision,test_size=0.1)"
   ]
  },
  {
   "cell_type": "code",
   "execution_count": 30,
   "id": "277dca63",
   "metadata": {},
   "outputs": [],
   "source": [
    "from sklearn.linear_model import LogisticRegression\n",
    "lr=LogisticRegression()"
   ]
  },
  {
   "cell_type": "code",
   "execution_count": 31,
   "id": "7729a5ee",
   "metadata": {},
   "outputs": [
    {
     "name": "stderr",
     "output_type": "stream",
     "text": [
      "C:\\python\\Lib\\site-packages\\sklearn\\linear_model\\_logistic.py:458: ConvergenceWarning: lbfgs failed to converge (status=1):\n",
      "STOP: TOTAL NO. of ITERATIONS REACHED LIMIT.\n",
      "\n",
      "Increase the number of iterations (max_iter) or scale the data as shown in:\n",
      "    https://scikit-learn.org/stable/modules/preprocessing.html\n",
      "Please also refer to the documentation for alternative solver options:\n",
      "    https://scikit-learn.org/stable/modules/linear_model.html#logistic-regression\n",
      "  n_iter_i = _check_optimize_result(\n"
     ]
    },
    {
     "data": {
      "text/html": [
       "<style>#sk-container-id-2 {color: black;background-color: white;}#sk-container-id-2 pre{padding: 0;}#sk-container-id-2 div.sk-toggleable {background-color: white;}#sk-container-id-2 label.sk-toggleable__label {cursor: pointer;display: block;width: 100%;margin-bottom: 0;padding: 0.3em;box-sizing: border-box;text-align: center;}#sk-container-id-2 label.sk-toggleable__label-arrow:before {content: \"▸\";float: left;margin-right: 0.25em;color: #696969;}#sk-container-id-2 label.sk-toggleable__label-arrow:hover:before {color: black;}#sk-container-id-2 div.sk-estimator:hover label.sk-toggleable__label-arrow:before {color: black;}#sk-container-id-2 div.sk-toggleable__content {max-height: 0;max-width: 0;overflow: hidden;text-align: left;background-color: #f0f8ff;}#sk-container-id-2 div.sk-toggleable__content pre {margin: 0.2em;color: black;border-radius: 0.25em;background-color: #f0f8ff;}#sk-container-id-2 input.sk-toggleable__control:checked~div.sk-toggleable__content {max-height: 200px;max-width: 100%;overflow: auto;}#sk-container-id-2 input.sk-toggleable__control:checked~label.sk-toggleable__label-arrow:before {content: \"▾\";}#sk-container-id-2 div.sk-estimator input.sk-toggleable__control:checked~label.sk-toggleable__label {background-color: #d4ebff;}#sk-container-id-2 div.sk-label input.sk-toggleable__control:checked~label.sk-toggleable__label {background-color: #d4ebff;}#sk-container-id-2 input.sk-hidden--visually {border: 0;clip: rect(1px 1px 1px 1px);clip: rect(1px, 1px, 1px, 1px);height: 1px;margin: -1px;overflow: hidden;padding: 0;position: absolute;width: 1px;}#sk-container-id-2 div.sk-estimator {font-family: monospace;background-color: #f0f8ff;border: 1px dotted black;border-radius: 0.25em;box-sizing: border-box;margin-bottom: 0.5em;}#sk-container-id-2 div.sk-estimator:hover {background-color: #d4ebff;}#sk-container-id-2 div.sk-parallel-item::after {content: \"\";width: 100%;border-bottom: 1px solid gray;flex-grow: 1;}#sk-container-id-2 div.sk-label:hover label.sk-toggleable__label {background-color: #d4ebff;}#sk-container-id-2 div.sk-serial::before {content: \"\";position: absolute;border-left: 1px solid gray;box-sizing: border-box;top: 0;bottom: 0;left: 50%;z-index: 0;}#sk-container-id-2 div.sk-serial {display: flex;flex-direction: column;align-items: center;background-color: white;padding-right: 0.2em;padding-left: 0.2em;position: relative;}#sk-container-id-2 div.sk-item {position: relative;z-index: 1;}#sk-container-id-2 div.sk-parallel {display: flex;align-items: stretch;justify-content: center;background-color: white;position: relative;}#sk-container-id-2 div.sk-item::before, #sk-container-id-2 div.sk-parallel-item::before {content: \"\";position: absolute;border-left: 1px solid gray;box-sizing: border-box;top: 0;bottom: 0;left: 50%;z-index: -1;}#sk-container-id-2 div.sk-parallel-item {display: flex;flex-direction: column;z-index: 1;position: relative;background-color: white;}#sk-container-id-2 div.sk-parallel-item:first-child::after {align-self: flex-end;width: 50%;}#sk-container-id-2 div.sk-parallel-item:last-child::after {align-self: flex-start;width: 50%;}#sk-container-id-2 div.sk-parallel-item:only-child::after {width: 0;}#sk-container-id-2 div.sk-dashed-wrapped {border: 1px dashed gray;margin: 0 0.4em 0.5em 0.4em;box-sizing: border-box;padding-bottom: 0.4em;background-color: white;}#sk-container-id-2 div.sk-label label {font-family: monospace;font-weight: bold;display: inline-block;line-height: 1.2em;}#sk-container-id-2 div.sk-label-container {text-align: center;}#sk-container-id-2 div.sk-container {/* jupyter's `normalize.less` sets `[hidden] { display: none; }` but bootstrap.min.css set `[hidden] { display: none !important; }` so we also need the `!important` here to be able to override the default hidden behavior on the sphinx rendered scikit-learn.org. See: https://github.com/scikit-learn/scikit-learn/issues/21755 */display: inline-block !important;position: relative;}#sk-container-id-2 div.sk-text-repr-fallback {display: none;}</style><div id=\"sk-container-id-2\" class=\"sk-top-container\"><div class=\"sk-text-repr-fallback\"><pre>LogisticRegression()</pre><b>In a Jupyter environment, please rerun this cell to show the HTML representation or trust the notebook. <br />On GitHub, the HTML representation is unable to render, please try loading this page with nbviewer.org.</b></div><div class=\"sk-container\" hidden><div class=\"sk-item\"><div class=\"sk-estimator sk-toggleable\"><input class=\"sk-toggleable__control sk-hidden--visually\" id=\"sk-estimator-id-2\" type=\"checkbox\" checked><label for=\"sk-estimator-id-2\" class=\"sk-toggleable__label sk-toggleable__label-arrow\">LogisticRegression</label><div class=\"sk-toggleable__content\"><pre>LogisticRegression()</pre></div></div></div></div></div>"
      ],
      "text/plain": [
       "LogisticRegression()"
      ]
     },
     "execution_count": 31,
     "metadata": {},
     "output_type": "execute_result"
    }
   ],
   "source": [
    "lr.fit(X_train,y_train)"
   ]
  },
  {
   "cell_type": "raw",
   "id": "3cfb6503",
   "metadata": {},
   "source": [
    "lr"
   ]
  },
  {
   "cell_type": "code",
   "execution_count": 32,
   "id": "e520472b",
   "metadata": {},
   "outputs": [
    {
     "data": {
      "text/plain": [
       "array(['no', 'no', 'no', 'no', 'no', 'yes', 'yes', 'yes', 'no', 'no',\n",
       "       'no', 'yes', 'yes', 'no', 'no', 'no', 'no', 'no', 'no', 'yes',\n",
       "       'no', 'yes', 'no', 'no'], dtype=object)"
      ]
     },
     "execution_count": 32,
     "metadata": {},
     "output_type": "execute_result"
    }
   ],
   "source": [
    "lr.predict(X_test)"
   ]
  },
  {
   "cell_type": "code",
   "execution_count": 33,
   "id": "ed00e819",
   "metadata": {},
   "outputs": [],
   "source": [
    "pickle.dump(lr,open('model.pkl','wb'))"
   ]
  },
  {
   "cell_type": "code",
   "execution_count": null,
   "id": "0d4c5951",
   "metadata": {},
   "outputs": [],
   "source": []
  }
 ],
 "metadata": {
  "kernelspec": {
   "display_name": "Python 3 (ipykernel)",
   "language": "python",
   "name": "python3"
  },
  "language_info": {
   "codemirror_mode": {
    "name": "ipython",
    "version": 3
   },
   "file_extension": ".py",
   "mimetype": "text/x-python",
   "name": "python",
   "nbconvert_exporter": "python",
   "pygments_lexer": "ipython3",
   "version": "3.11.1"
  }
 },
 "nbformat": 4,
 "nbformat_minor": 5
}
